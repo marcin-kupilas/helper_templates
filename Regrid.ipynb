{
 "cells": [
  {
   "cell_type": "code",
   "execution_count": null,
   "id": "58df67a2-265a-4892-a42b-acee710bf016",
   "metadata": {},
   "outputs": [],
   "source": [
    "# Regrid RR w data to 0.1 deg grid\n",
    "\n",
    "    # Regrid lat lon to 0.1 deg over 20 to 55N, to 150 to 50W\n",
    "lat2d = np.linspace(20,55,351)\n",
    "lon2d = np.linspace(210,310,1001)\n",
    "\n",
    "X, Y = np.meshgrid(lon2d,lat2d)\n",
    "\n",
    "# Need the model lat/lon/lev values for regridding\n",
    "mdllat = ds_rr['lat']\n",
    "mdllon = ds_rr['lon']\n",
    "mdlev = ds_rr['lev']\n",
    "\n",
    "\n",
    "# get time \n",
    "# rr_time = ds_rr['time']"
   ]
  },
  {
   "cell_type": "code",
   "execution_count": null,
   "id": "7cd77833-0a1a-4e69-8b22-9637e28edbb7",
   "metadata": {},
   "outputs": [],
   "source": [
    "# loop over number of levels and interpolate 1D array to 3D array with dimensions lat, lon, lev\n",
    "# WARNING - executing this cell will reinterpolate each of 110 levels and take ~ 2 mins to execute\n",
    "\n",
    "levdata = []\n",
    "tic = time.time()\n",
    "for i in range(len(mdlev)):\n",
    "    \n",
    "    inter1 = time.time()\n",
    "    \n",
    "    levdata.append(griddata((mdllon,mdllat), ds_rr.isel(time=0,lev=i)['OMEGA'], (X, Y), method='linear'))\n",
    "    \n",
    "    inter2 = time.time()\n",
    "    \n",
    "    print(\"interpolating level \", i, \" took \", inter2 - inter1, \" seconds\")\n",
    "\n",
    "\n",
    "toc = time.time()\n",
    "\n",
    "# loop over time and add data to list to now have time, lev, lat, lon\n",
    "print(\"Whole process took \", toc - tic, \" seconds\")"
   ]
  },
  {
   "cell_type": "code",
   "execution_count": null,
   "id": "4c5069d3-2976-46eb-b28b-34a7c2345cda",
   "metadata": {},
   "outputs": [],
   "source": [
    "# WARNING - executing this line more than once will raise Errno 13 Permission denied error\n",
    "# as file is already created. I'm sure this can be written over somehow.\n",
    "\n",
    "ds_rr_regrid1_omega = Dataset('./Data/CONUS_0.1x0.1_regrid1_omega.nc', 'w', format='NETCDF4')\n",
    "\n",
    "# Create dimensions of the netcdf: \n",
    "# lat, lon, lev in accordance with \"regrid1\" \n",
    "    # lat lon grid with 0.1 deg spacing in the range 20 - 55 N, 210 - 310 E\n",
    "    # 0.1 in both lat,lon \n",
    "    # Level structure as defined in CONUS RR run\n",
    "    \n",
    "lat = ds_rr_regrid1_omega.createDimension('lat', np.size(lat2d))\n",
    "lon = ds_rr_regrid1_omega.createDimension('lon', np.size(lon2d))\n",
    "lev = ds_rr_regrid1_omega.createDimension('lev', np.size(mdlev))\n",
    "# time = \n",
    "\n",
    "# Create variables, this includes dimensions and fields\n",
    "lats = ds_rr_regrid1_omega.createVariable('lat', 'f8', ('lat'))\n",
    "lons = ds_rr_regrid1_omega.createVariable('lon', 'f8', ('lon'))\n",
    "levs = ds_rr_regrid1_omega.createVariable('lev', 'f8', ('lev'))\n",
    "# times = ...\n",
    "\n",
    "omega = ds_rr_regrid1_omega.createVariable('omega', 'f8', ('lat','lon','lev'))\n",
    "\n",
    "omega.units = \"Pa/s\"\n",
    "omega.longname = \"Vertical velocity in pressure coordinates\"\n",
    "\n",
    "# ds_rr_regrid1_omega.attrs = ds_rr.attrs"
   ]
  },
  {
   "cell_type": "code",
   "execution_count": null,
   "id": "56fbd069-2a0c-4a88-b936-14717fd93766",
   "metadata": {},
   "outputs": [],
   "source": [
    "temp = np.transpose(levdata, (1,2,0))\n",
    "# Assign the values from the numpy arrays we have calculated above\n",
    "lats[:] = lat2d\n",
    "lons[:] = lon2d\n",
    "levs[:] = mdlev\n",
    "omega[:,:,:] = temp"
   ]
  }
 ],
 "metadata": {
  "kernelspec": {
   "display_name": "NPL 2023b",
   "language": "python",
   "name": "npl-2023b"
  },
  "language_info": {
   "codemirror_mode": {
    "name": "ipython",
    "version": 3
   },
   "file_extension": ".py",
   "mimetype": "text/x-python",
   "name": "python",
   "nbconvert_exporter": "python",
   "pygments_lexer": "ipython3",
   "version": "3.10.12"
  }
 },
 "nbformat": 4,
 "nbformat_minor": 5
}
