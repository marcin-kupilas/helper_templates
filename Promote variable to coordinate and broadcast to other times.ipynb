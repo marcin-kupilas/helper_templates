{
 "cells": [
  {
   "cell_type": "code",
   "execution_count": null,
   "id": "c7de7a78-4f37-46c1-be20-237b7ba206ce",
   "metadata": {},
   "outputs": [],
   "source": [
    "\n",
    "# Promote Z3 to coordinate for plotting #TODO save to new netcdf\n",
    "ds_rr = ds_rr.assign_coords(mmk_z3=ds_rr['mmk_z3']/1000) # Z3 is gph in km\n",
    "\n",
    "# Broadcast mmk_z3 from time=0 to all other times\n",
    "ds_rr[\"mmk_z3\"] = ds_rr[\"mmk_z3\"].isel(time=0).broadcast_like(ds_rr[\"mmk_z3\"])"
   ]
  }
 ],
 "metadata": {
  "kernelspec": {
   "display_name": "Python 3 (ipykernel)",
   "language": "python",
   "name": "python3"
  },
  "language_info": {
   "codemirror_mode": {
    "name": "ipython",
    "version": 3
   },
   "file_extension": ".py",
   "mimetype": "text/x-python",
   "name": "python",
   "nbconvert_exporter": "python",
   "pygments_lexer": "ipython3",
   "version": "3.9.12"
  }
 },
 "nbformat": 4,
 "nbformat_minor": 5
}
