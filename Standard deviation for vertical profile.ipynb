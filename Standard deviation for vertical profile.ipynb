{
 "cells": [
  {
   "cell_type": "code",
   "execution_count": null,
   "id": "a911019e-d794-4f53-af14-ba24906a8971",
   "metadata": {},
   "outputs": [],
   "source": [
    "\n",
    "## Creates blank variable with correct pressure dimension\n",
    "ds_nonrr_std[var_std] = ds_nonrr_var['lev']*0 \n",
    "ds_nonrr_std = ds_nonrr_std.reset_coords(var_std)\n",
    "ds_rr_std[var_std] = ds_rr_var['lev']*0 \n",
    "ds_rr_std = ds_rr_std.reset_coords(var_std) \n",
    "\n",
    "## Create weights (to prevent over-represenation of poleward data)\n",
    "weights = np.cos(np.deg2rad(ds_nonrr_var.lat))  \n",
    "\n",
    "## Calculate std for every pressure level \n",
    "for i in range(len(ds_nonrr_std['lev'])):\n",
    "    toc = time.time()\n",
    "    print(\"Calculating std for lev\", i)\n",
    "    ds_nonrr_std[var_std][i] = ds_nonrr_var.isel(lev=i).weighted(weights).std()\n",
    "    print(\"nonrr took\", time.time() - toc, \"seconds\")\n",
    "    toc = time.time()\n",
    "    ds_rr_std[var_std][i] = ds_rr_var.isel(lev=i).weighted(weights).std()\n",
    "    print(\"rr took\", time.time() - toc, \"seconds\")\n",
    "\n",
    "    print(\"nonrr std\", ds_nonrr_std[var_std][i].values)\n",
    "    print(\"rr std\", ds_rr_std[var_std][i].values,\"\\n\")\n"
   ]
  }
 ],
 "metadata": {
  "kernelspec": {
   "display_name": "Python 3 (ipykernel)",
   "language": "python",
   "name": "python3"
  },
  "language_info": {
   "codemirror_mode": {
    "name": "ipython",
    "version": 3
   },
   "file_extension": ".py",
   "mimetype": "text/x-python",
   "name": "python",
   "nbconvert_exporter": "python",
   "pygments_lexer": "ipython3",
   "version": "3.10.13"
  }
 },
 "nbformat": 4,
 "nbformat_minor": 5
}
