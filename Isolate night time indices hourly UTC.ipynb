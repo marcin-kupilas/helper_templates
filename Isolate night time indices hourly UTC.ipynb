{
 "cells": [
  {
   "cell_type": "code",
   "execution_count": null,
   "id": "e4bd8fdf-e7e6-4e4e-91b0-60ea90288d5c",
   "metadata": {
    "tags": []
   },
   "outputs": [],
   "source": [
    "days = int(8736/24)\n",
    "hours = 14\n",
    "night_indices = []\n",
    "for i in (range(days)):\n",
    "    for j in (range(4,hours-2,1)):\n",
    "        night_indices.append(24*i + j)\n",
    "night_indices"
   ]
  }
 ],
 "metadata": {
  "kernelspec": {
   "display_name": "Python 3 (ipykernel)",
   "language": "python",
   "name": "python3"
  },
  "language_info": {
   "codemirror_mode": {
    "name": "ipython",
    "version": 3
   },
   "file_extension": ".py",
   "mimetype": "text/x-python",
   "name": "python",
   "nbconvert_exporter": "python",
   "pygments_lexer": "ipython3",
   "version": "3.10.9"
  }
 },
 "nbformat": 4,
 "nbformat_minor": 5
}
